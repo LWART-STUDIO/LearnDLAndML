{
  "cells": [
    {
      "cell_type": "markdown",
      "metadata": {
        "id": "view-in-github",
        "colab_type": "text"
      },
      "source": [
        "<a href=\"https://colab.research.google.com/github/LWART-STUDIO/LearnDLAndML/blob/main/FinTehStartModule/%D0%9B%D0%B5%D0%BA%D1%86%D0%B8%D1%8F_3_%D0%9E%D1%81%D0%BD%D0%BE%D0%B2%D1%8B_Python_ipynb.ipynb\" target=\"_parent\"><img src=\"https://colab.research.google.com/assets/colab-badge.svg\" alt=\"Open In Colab\"/></a>"
      ]
    },
    {
      "cell_type": "markdown",
      "source": [
        "# Лекция №3, \"Основы Python\"\n",
        "Привет! В этом ноутбуке разберем основные конструкции Python"
      ],
      "metadata": {
        "id": "lRDwEJJv-mza"
      }
    },
    {
      "cell_type": "code",
      "source": [
        "#Дзен Python\n",
        "import this"
      ],
      "metadata": {
        "colab": {
          "base_uri": "https://localhost:8080/"
        },
        "id": "fq9m-5UyNE8P",
        "outputId": "c91483b2-cf4e-4cbe-e048-f911103f109c"
      },
      "execution_count": null,
      "outputs": [
        {
          "output_type": "stream",
          "name": "stdout",
          "text": [
            "The Zen of Python, by Tim Peters\n",
            "\n",
            "Beautiful is better than ugly.\n",
            "Explicit is better than implicit.\n",
            "Simple is better than complex.\n",
            "Complex is better than complicated.\n",
            "Flat is better than nested.\n",
            "Sparse is better than dense.\n",
            "Readability counts.\n",
            "Special cases aren't special enough to break the rules.\n",
            "Although practicality beats purity.\n",
            "Errors should never pass silently.\n",
            "Unless explicitly silenced.\n",
            "In the face of ambiguity, refuse the temptation to guess.\n",
            "There should be one-- and preferably only one --obvious way to do it.\n",
            "Although that way may not be obvious at first unless you're Dutch.\n",
            "Now is better than never.\n",
            "Although never is often better than *right* now.\n",
            "If the implementation is hard to explain, it's a bad idea.\n",
            "If the implementation is easy to explain, it may be a good idea.\n",
            "Namespaces are one honking great idea -- let's do more of those!\n"
          ]
        }
      ]
    },
    {
      "cell_type": "markdown",
      "source": [
        "Начнем с объявления переменных.\n",
        "\n",
        "1.  Имена переменных начинаются с буквы или символа подчеркивания (_).\n",
        "\n",
        "2. Имя переменной может содержать буквы, цифры и символ подчеркивания (_), но не может содержать пробелы или специальные символы, такие как !, @, #, $ и т.д.\n",
        "\n",
        "3. Имена переменных чувствительны к регистру, переменная «ml» и «Ml» — это две разные переменные.\n",
        "\n",
        "4. Имена переменных должны быть\n",
        "понятными и легко читаемыми, чтобы другие программисты могли понимать, что они представляют.\n",
        "\n",
        "\n"
      ],
      "metadata": {
        "id": "2ULxysgh_vUG"
      }
    },
    {
      "cell_type": "code",
      "source": [
        "#Создание переменных\n",
        "new_variable = 5\n",
        "new_variable = 10\n",
        "new_variable = 7\n",
        "print(new_variable)"
      ],
      "metadata": {
        "id": "PzNw_mgs_Mko",
        "colab": {
          "base_uri": "https://localhost:8080/"
        },
        "outputId": "81a5c19a-63b1-460d-9a05-ad27b957b324"
      },
      "execution_count": null,
      "outputs": [
        {
          "output_type": "stream",
          "name": "stdout",
          "text": [
            "7\n"
          ]
        }
      ]
    },
    {
      "cell_type": "markdown",
      "source": [
        "**Строки**"
      ],
      "metadata": {
        "id": "bs55cqYzJtTV"
      }
    },
    {
      "metadata": {
        "_uuid": "8f2839f25d086af736a60e9eeb907d3b93b6e0e5",
        "_cell_guid": "b1076dfc-b9ad-4769-8c92-a6c4dae69d19",
        "trusted": true,
        "colab": {
          "base_uri": "https://localhost:8080/"
        },
        "id": "iA-hf35Ipuky",
        "outputId": "8fd26491-0c6f-400d-bd3b-d2f02e6bc45c"
      },
      "cell_type": "code",
      "source": [
        "#Разберемся с данными\n",
        "#строки\n",
        "textual_data = 'Hello World'\n",
        "print(textual_data, type(textual_data))"
      ],
      "execution_count": null,
      "outputs": [
        {
          "output_type": "stream",
          "name": "stdout",
          "text": [
            "Hello World <class 'str'>\n"
          ]
        }
      ]
    },
    {
      "cell_type": "code",
      "source": [
        "first_name = \"Eliza \"\n",
        "last_name = \"Vialykh\"\n",
        "full_name = first_name + last_name\n",
        "print(full_name)"
      ],
      "metadata": {
        "colab": {
          "base_uri": "https://localhost:8080/"
        },
        "id": "sOcTSrUlBVf2",
        "outputId": "7c93d06f-c29b-4e3f-ebd0-2a6942e77925"
      },
      "execution_count": null,
      "outputs": [
        {
          "output_type": "stream",
          "name": "stdout",
          "text": [
            "Eliza Vialykh\n"
          ]
        }
      ]
    },
    {
      "cell_type": "code",
      "source": [
        "#в Python нумерация начинается с 0, а не с 1\n",
        "full_name[0]"
      ],
      "metadata": {
        "colab": {
          "base_uri": "https://localhost:8080/",
          "height": 36
        },
        "id": "WoqbmPLlBuvT",
        "outputId": "404e5a62-ffc4-42dd-ee20-8d67035b052d"
      },
      "execution_count": null,
      "outputs": [
        {
          "output_type": "execute_result",
          "data": {
            "text/plain": [
              "'E'"
            ],
            "application/vnd.google.colaboratory.intrinsic+json": {
              "type": "string"
            }
          },
          "metadata": {},
          "execution_count": 5
        }
      ]
    },
    {
      "cell_type": "code",
      "source": [
        "#Срезы, start:stop:step\n",
        "full_name[1:5:1], full_name[:5], full_name[::-1]"
      ],
      "metadata": {
        "colab": {
          "base_uri": "https://localhost:8080/"
        },
        "id": "WYcNHl3vCF9Y",
        "outputId": "ec886ffd-5641-4b3f-d609-1e718087437d"
      },
      "execution_count": null,
      "outputs": [
        {
          "output_type": "execute_result",
          "data": {
            "text/plain": [
              "('liza', 'Eliza', 'hkylaiV azilE')"
            ]
          },
          "metadata": {},
          "execution_count": 6
        }
      ]
    },
    {
      "cell_type": "code",
      "source": [
        "#Преобразовать к большим или маленьким буквам\n",
        "print(full_name.upper())\n",
        "print(full_name.lower())"
      ],
      "metadata": {
        "colab": {
          "base_uri": "https://localhost:8080/"
        },
        "id": "NXJ1tJUUEPEA",
        "outputId": "f6692902-96af-4b73-a879-5f977d9c3006"
      },
      "execution_count": null,
      "outputs": [
        {
          "output_type": "stream",
          "name": "stdout",
          "text": [
            "ELIZA VIALYKH\n",
            "eliza vialykh\n"
          ]
        }
      ]
    },
    {
      "cell_type": "code",
      "source": [
        "#Посчитать длину\n",
        "print(len(full_name))"
      ],
      "metadata": {
        "colab": {
          "base_uri": "https://localhost:8080/"
        },
        "id": "kWKWRHqnEZP8",
        "outputId": "811991b0-25bd-4e85-e464-7aa9514c8e5b"
      },
      "execution_count": null,
      "outputs": [
        {
          "output_type": "stream",
          "name": "stdout",
          "text": [
            "13\n"
          ]
        }
      ]
    },
    {
      "cell_type": "markdown",
      "source": [
        "**Числа**"
      ],
      "metadata": {
        "id": "ZBh5saQyJ27D"
      }
    },
    {
      "cell_type": "code",
      "source": [
        "#целые числа\n",
        "number_data = 5\n",
        "print(number_data, type(number_data))"
      ],
      "metadata": {
        "id": "v5qmoahKiVHM",
        "colab": {
          "base_uri": "https://localhost:8080/"
        },
        "outputId": "5dd4fed1-7a88-4875-f537-02cacbb59011"
      },
      "execution_count": null,
      "outputs": [
        {
          "output_type": "stream",
          "name": "stdout",
          "text": [
            "5 <class 'int'>\n"
          ]
        }
      ]
    },
    {
      "cell_type": "code",
      "source": [
        "#числа с плавающей точкой\n",
        "float_data = 3.3\n",
        "print(float_data, type(float_data))"
      ],
      "metadata": {
        "id": "beXR59D2iWX0",
        "colab": {
          "base_uri": "https://localhost:8080/"
        },
        "outputId": "82161395-0322-4d2d-81fa-708da9826f29"
      },
      "execution_count": null,
      "outputs": [
        {
          "output_type": "stream",
          "name": "stdout",
          "text": [
            "3.3 <class 'float'>\n"
          ]
        }
      ]
    },
    {
      "cell_type": "code",
      "source": [
        "int(3.3), float(3)"
      ],
      "metadata": {
        "colab": {
          "base_uri": "https://localhost:8080/"
        },
        "id": "txgPNKZOCv9x",
        "outputId": "089a474f-a800-4156-efa9-fe2b1f1381aa"
      },
      "execution_count": null,
      "outputs": [
        {
          "output_type": "execute_result",
          "data": {
            "text/plain": [
              "(3, 3.0)"
            ]
          },
          "metadata": {},
          "execution_count": 11
        }
      ]
    },
    {
      "cell_type": "code",
      "source": [
        "a = 4.5 + 9\n",
        "b = 6.0 * 2\n",
        "c = 5 // 4\n",
        "\n",
        "print(a, b, c)"
      ],
      "metadata": {
        "colab": {
          "base_uri": "https://localhost:8080/"
        },
        "id": "gjnvqFYGDgBf",
        "outputId": "9893332c-248c-412f-b520-0c5f835f91b5"
      },
      "execution_count": null,
      "outputs": [
        {
          "output_type": "stream",
          "name": "stdout",
          "text": [
            "13.5 12.0 1\n"
          ]
        }
      ]
    },
    {
      "cell_type": "markdown",
      "source": [
        "**bool**"
      ],
      "metadata": {
        "id": "B_rn562BJ_Qs"
      }
    },
    {
      "cell_type": "code",
      "source": [
        "#bool\n",
        "a = True\n",
        "b = False\n",
        "\n",
        "print(a, type(a))\n",
        "\n",
        "print(b, type(b))"
      ],
      "metadata": {
        "colab": {
          "base_uri": "https://localhost:8080/"
        },
        "id": "WMqNuzYvD33V",
        "outputId": "4cddc96e-c2d4-4f47-a692-1445beaf3a2a"
      },
      "execution_count": null,
      "outputs": [
        {
          "output_type": "stream",
          "name": "stdout",
          "text": [
            "True <class 'bool'>\n",
            "False <class 'bool'>\n"
          ]
        }
      ]
    },
    {
      "cell_type": "code",
      "source": [
        "print(a or b)\n",
        "print(a and b)\n",
        "print(b or b)"
      ],
      "metadata": {
        "colab": {
          "base_uri": "https://localhost:8080/"
        },
        "id": "YGBL_EqiEAqs",
        "outputId": "67dcff7d-cea2-469b-9c67-64ef82fb1452"
      },
      "execution_count": null,
      "outputs": [
        {
          "output_type": "stream",
          "name": "stdout",
          "text": [
            "True\n",
            "False\n",
            "False\n"
          ]
        }
      ]
    },
    {
      "cell_type": "markdown",
      "source": [
        "**None**"
      ],
      "metadata": {
        "id": "Uq9ZtCKtKDPJ"
      }
    },
    {
      "cell_type": "code",
      "source": [
        "#Не все переменные имеют значение.\n",
        "#Мы можем объявить “пустую” переменную, установив для нее значение None.\n",
        "empty = None\n",
        "print(empty, type(empty))"
      ],
      "metadata": {
        "id": "bAITtj-MHXXx",
        "colab": {
          "base_uri": "https://localhost:8080/"
        },
        "outputId": "84f6a244-8f73-40e4-c894-c7b3c69f1f95"
      },
      "execution_count": null,
      "outputs": [
        {
          "output_type": "stream",
          "name": "stdout",
          "text": [
            "None <class 'NoneType'>\n"
          ]
        }
      ]
    },
    {
      "cell_type": "markdown",
      "source": [
        "**Коллекции данных**"
      ],
      "metadata": {
        "id": "_1JJ1eXRKNp6"
      }
    },
    {
      "cell_type": "code",
      "source": [
        "#Коллекции данных\n",
        "#список\n",
        "list_type = [1, 'text', 2, 'another text']\n",
        "print(list_type, type(list_type))"
      ],
      "metadata": {
        "colab": {
          "base_uri": "https://localhost:8080/"
        },
        "id": "aUAHzei5ifz6",
        "outputId": "130cdb1b-3306-42d5-b5ad-57628067c888"
      },
      "execution_count": null,
      "outputs": [
        {
          "output_type": "stream",
          "name": "stdout",
          "text": [
            "[1, 'text', 2, 'another text'] <class 'list'>\n"
          ]
        }
      ]
    },
    {
      "cell_type": "code",
      "source": [
        "#Узнать индекс элемента\n",
        "list_type.index('text')"
      ],
      "metadata": {
        "colab": {
          "base_uri": "https://localhost:8080/"
        },
        "id": "Lu9ywfLoFFmp",
        "outputId": "dc33195f-2fab-4b0a-f8d4-7ccecaa640e7"
      },
      "execution_count": null,
      "outputs": [
        {
          "output_type": "execute_result",
          "data": {
            "text/plain": [
              "1"
            ]
          },
          "metadata": {},
          "execution_count": 17
        }
      ]
    },
    {
      "cell_type": "code",
      "source": [
        "#Сложение списков\n",
        "list_type_1 = [1, 'text', 2, 'another text']\n",
        "list_type_2 = ['string', 'text', True, 'another text']\n",
        "sum_list = list_type_1+list_type_2\n",
        "print(sum_list)"
      ],
      "metadata": {
        "colab": {
          "base_uri": "https://localhost:8080/"
        },
        "id": "Na1LAD7fFOJi",
        "outputId": "a30266c8-896a-4b3e-80f0-7146ced17b06"
      },
      "execution_count": null,
      "outputs": [
        {
          "output_type": "stream",
          "name": "stdout",
          "text": [
            "[1, 'text', 2, 'another text', 'string', 'text', True, 'another text']\n"
          ]
        }
      ]
    },
    {
      "cell_type": "code",
      "source": [
        "#Узнать количество элементов\n",
        "len(sum_list)"
      ],
      "metadata": {
        "colab": {
          "base_uri": "https://localhost:8080/"
        },
        "id": "0qYfPHrHFnPe",
        "outputId": "259aeb18-e1f4-4a2f-8598-c38892f454d7"
      },
      "execution_count": null,
      "outputs": [
        {
          "output_type": "execute_result",
          "data": {
            "text/plain": [
              "8"
            ]
          },
          "metadata": {},
          "execution_count": 19
        }
      ]
    },
    {
      "cell_type": "code",
      "source": [
        "#добавление элемента\n",
        "sum_list.append('I want to improve my python skills')\n",
        "print(sum_list)"
      ],
      "metadata": {
        "colab": {
          "base_uri": "https://localhost:8080/"
        },
        "id": "J5q_K2SiGIFh",
        "outputId": "ec90ad21-c6b1-4911-fb31-1ddb2497e241"
      },
      "execution_count": null,
      "outputs": [
        {
          "output_type": "stream",
          "name": "stdout",
          "text": [
            "[1, 'text', 2, 'another text', 'string', 'text', True, 'another text', 'I want to improve my python skills']\n"
          ]
        }
      ]
    },
    {
      "cell_type": "code",
      "source": [
        "#Удаление элемента\n",
        "last_element = sum_list.pop()\n",
        "last_element"
      ],
      "metadata": {
        "colab": {
          "base_uri": "https://localhost:8080/",
          "height": 36
        },
        "id": "Eho28_A4K27I",
        "outputId": "fc4af6d2-36a3-40dd-affe-d4739e0d749e"
      },
      "execution_count": null,
      "outputs": [
        {
          "output_type": "execute_result",
          "data": {
            "text/plain": [
              "'I want to improve my python skills'"
            ],
            "application/vnd.google.colaboratory.intrinsic+json": {
              "type": "string"
            }
          },
          "metadata": {},
          "execution_count": 21
        }
      ]
    },
    {
      "cell_type": "code",
      "source": [
        "sum_list"
      ],
      "metadata": {
        "colab": {
          "base_uri": "https://localhost:8080/"
        },
        "id": "0zcs7IjAK_gv",
        "outputId": "c02163e3-b4af-4cd8-f65d-6c1615ea1a16"
      },
      "execution_count": null,
      "outputs": [
        {
          "output_type": "execute_result",
          "data": {
            "text/plain": [
              "[1, 'text', 2, 'another text', 'string', 'text', True, 'another text']"
            ]
          },
          "metadata": {},
          "execution_count": 22
        }
      ]
    },
    {
      "cell_type": "code",
      "source": [
        "#Здесь тоже есть срезы\n",
        "print(sum_list[-1])\n",
        "print(sum_list[0])\n",
        "print(sum_list[-2:-1:1])\n",
        "print(sum_list[:5])\n",
        "print(sum_list[2:])"
      ],
      "metadata": {
        "colab": {
          "base_uri": "https://localhost:8080/"
        },
        "id": "R-LQbVg3Gnbn",
        "outputId": "a9476422-2dd7-4b6d-9e54-2699bdcb6020"
      },
      "execution_count": null,
      "outputs": [
        {
          "output_type": "stream",
          "name": "stdout",
          "text": [
            "another text\n",
            "1\n",
            "[True]\n",
            "[1, 'text', 2, 'another text', 'string']\n",
            "[2, 'another text', 'string', 'text', True, 'another text']\n"
          ]
        }
      ]
    },
    {
      "cell_type": "code",
      "source": [
        "splitted_line = \"Я люблю Python\".split(' ')\n",
        "print(splitted_line)\n",
        "\n",
        "join_line = ' '.join(splitted_line)\n",
        "print(join_line)"
      ],
      "metadata": {
        "colab": {
          "base_uri": "https://localhost:8080/"
        },
        "id": "CDOErbiwKdXL",
        "outputId": "188ec561-eb21-4571-90e9-ff3f1eb29573"
      },
      "execution_count": null,
      "outputs": [
        {
          "output_type": "stream",
          "name": "stdout",
          "text": [
            "['Я', 'люблю', 'Python']\n",
            "Я люблю Python\n"
          ]
        }
      ]
    },
    {
      "cell_type": "code",
      "source": [
        "#кортеж\n",
        "tuple_type = (1, 'text', 2, 'another text')\n",
        "print(tuple_type, type(tuple_type))"
      ],
      "metadata": {
        "colab": {
          "base_uri": "https://localhost:8080/"
        },
        "id": "r5oI_zrwiiV9",
        "outputId": "311abae7-a37e-4a0e-ae03-63fc084832e2"
      },
      "execution_count": null,
      "outputs": [
        {
          "output_type": "stream",
          "name": "stdout",
          "text": [
            "(1, 'text', 2, 'another text') <class 'tuple'>\n"
          ]
        }
      ]
    },
    {
      "cell_type": "code",
      "source": [
        "#Да, здесь действительно должна быть ошибка. Этим мы демонстрируем неизменяемость кортежей.\n",
        "tuple_type.append('text')"
      ],
      "metadata": {
        "colab": {
          "base_uri": "https://localhost:8080/",
          "height": 181
        },
        "id": "LU5sOVLvF9Sr",
        "outputId": "7c9c8e61-c0ab-419b-b59b-4d4eadb720b0"
      },
      "execution_count": null,
      "outputs": [
        {
          "output_type": "error",
          "ename": "AttributeError",
          "evalue": "'tuple' object has no attribute 'append'",
          "traceback": [
            "\u001b[0;31m---------------------------------------------------------------------------\u001b[0m",
            "\u001b[0;31mAttributeError\u001b[0m                            Traceback (most recent call last)",
            "\u001b[0;32m<ipython-input-26-97824be77ccc>\u001b[0m in \u001b[0;36m<cell line: 1>\u001b[0;34m()\u001b[0m\n\u001b[0;32m----> 1\u001b[0;31m \u001b[0mtuple_type\u001b[0m\u001b[0;34m.\u001b[0m\u001b[0mappend\u001b[0m\u001b[0;34m(\u001b[0m\u001b[0;34m'text'\u001b[0m\u001b[0;34m)\u001b[0m\u001b[0;34m\u001b[0m\u001b[0;34m\u001b[0m\u001b[0m\n\u001b[0m",
            "\u001b[0;31mAttributeError\u001b[0m: 'tuple' object has no attribute 'append'"
          ]
        }
      ]
    },
    {
      "cell_type": "code",
      "source": [
        "#Множества\n",
        "fruits = {'apple', 'banana', 'grape', 'banana', 'grape'}\n",
        "print(type(fruits))\n",
        "print(fruits)"
      ],
      "metadata": {
        "colab": {
          "base_uri": "https://localhost:8080/"
        },
        "id": "Byb9LYNpKi7T",
        "outputId": "aa9f85cc-ab2f-4e2d-e3ee-3cb229ef85a2"
      },
      "execution_count": null,
      "outputs": [
        {
          "output_type": "stream",
          "name": "stdout",
          "text": [
            "<class 'set'>\n",
            "{'banana', 'grape', 'apple'}\n"
          ]
        }
      ]
    },
    {
      "cell_type": "code",
      "source": [
        "#Словари\n",
        "car = {\n",
        "  \"brand\": \"Tesla\",\n",
        "  \"model\": \"3\",\n",
        "  \"year\": 2019\n",
        "}\n",
        "\n",
        "print(car['brand'])"
      ],
      "metadata": {
        "colab": {
          "base_uri": "https://localhost:8080/"
        },
        "id": "cQIXYwCSLVkF",
        "outputId": "49685d77-96d0-4e58-b927-11c024bbde39"
      },
      "execution_count": null,
      "outputs": [
        {
          "output_type": "stream",
          "name": "stdout",
          "text": [
            "Tesla\n"
          ]
        }
      ]
    },
    {
      "cell_type": "code",
      "source": [
        "names = [\"Eliza Vialykh\", \"Adel Valiullin\", \"Andrew Ng\"]\n",
        "\n",
        "names_dict = {}\n",
        "\n",
        "for name in names:\n",
        "    names_arr = name.split()\n",
        "    names_dict[names_arr[0]] = names_arr[1]\n",
        "\n",
        "print(names_dict)"
      ],
      "metadata": {
        "colab": {
          "base_uri": "https://localhost:8080/"
        },
        "id": "U0nSJfoRLo5H",
        "outputId": "8c24b40e-9e3f-4a2c-c0d6-6e04747a4972"
      },
      "execution_count": null,
      "outputs": [
        {
          "output_type": "stream",
          "name": "stdout",
          "text": [
            "{'Eliza': 'Vialykh', 'Adel': 'Valiullin', 'Andrew': 'Ng'}\n"
          ]
        }
      ]
    },
    {
      "cell_type": "code",
      "source": [
        "#Проверка на существование ключа\n",
        "print('Eliza' in names_dict)\n",
        "print('Sergey' in names_dict)"
      ],
      "metadata": {
        "colab": {
          "base_uri": "https://localhost:8080/"
        },
        "id": "qjWZOGHIMJ_T",
        "outputId": "5ed2120b-5153-4297-85f7-6e41a5283dd3"
      },
      "execution_count": null,
      "outputs": [
        {
          "output_type": "stream",
          "name": "stdout",
          "text": [
            "True\n",
            "False\n"
          ]
        }
      ]
    },
    {
      "cell_type": "markdown",
      "source": [
        "**Циклы**"
      ],
      "metadata": {
        "id": "fB9UlEDSKTLp"
      }
    },
    {
      "cell_type": "code",
      "source": [
        "#Циклы\n",
        "my_acts = ['course', 'home work', 'eat', 'ml', 'work']\n",
        "for i in my_acts:\n",
        "    print(i)"
      ],
      "metadata": {
        "id": "373SqkZ4inK-",
        "colab": {
          "base_uri": "https://localhost:8080/"
        },
        "outputId": "f8c30c39-bd83-4eef-c5c1-9f962cd7f78e"
      },
      "execution_count": null,
      "outputs": [
        {
          "output_type": "stream",
          "name": "stdout",
          "text": [
            "course\n",
            "home work\n",
            "eat\n",
            "ml\n",
            "work\n"
          ]
        }
      ]
    },
    {
      "cell_type": "code",
      "source": [
        "for i in range(5):\n",
        "    print(i)"
      ],
      "metadata": {
        "id": "1K9YKK9OAXXk",
        "colab": {
          "base_uri": "https://localhost:8080/"
        },
        "outputId": "bc38c9f8-f6d8-4912-9c38-6c1a0f4d9615"
      },
      "execution_count": null,
      "outputs": [
        {
          "output_type": "stream",
          "name": "stdout",
          "text": [
            "0\n",
            "1\n",
            "2\n",
            "3\n",
            "4\n"
          ]
        }
      ]
    },
    {
      "cell_type": "code",
      "source": [
        "my_acts = ['course', 'home work', 'eat', 'ml', 'work']\n",
        "count = 0\n",
        "for i in my_acts:\n",
        "    count+=len(i)\n",
        "print(count)"
      ],
      "metadata": {
        "colab": {
          "base_uri": "https://localhost:8080/"
        },
        "id": "oQdFcgj3Icw6",
        "outputId": "30995157-ba92-41f3-bc13-e59e57ef4d40"
      },
      "execution_count": null,
      "outputs": [
        {
          "output_type": "stream",
          "name": "stdout",
          "text": [
            "24\n"
          ]
        }
      ]
    },
    {
      "cell_type": "code",
      "source": [
        "examples = 0\n",
        "\n",
        "while examples < 80:\n",
        "    examples += 10\n",
        "    print(examples)\n",
        "print('You are ready!')"
      ],
      "metadata": {
        "id": "VgpatooSAeVu",
        "colab": {
          "base_uri": "https://localhost:8080/"
        },
        "outputId": "dca6ea76-eeb7-458e-d52d-71cfcbf08eec"
      },
      "execution_count": null,
      "outputs": [
        {
          "output_type": "stream",
          "name": "stdout",
          "text": [
            "10\n",
            "20\n",
            "30\n",
            "40\n",
            "50\n",
            "60\n",
            "70\n",
            "80\n",
            "You are ready!\n"
          ]
        }
      ]
    },
    {
      "cell_type": "code",
      "source": [
        "#Прервите выполнение кода, нажав на стоп, иначе он будет выполняться вечно:)\n",
        "while True:\n",
        "  print(\"hello\")"
      ],
      "metadata": {
        "id": "MlJrMNa4wVAA"
      },
      "execution_count": null,
      "outputs": []
    },
    {
      "cell_type": "markdown",
      "source": [
        "**Функция**"
      ],
      "metadata": {
        "id": "ENN2PumBKWK_"
      }
    },
    {
      "metadata": {
        "trusted": true,
        "_uuid": "7d48f0dd30723407204983c017836c424bc561d5",
        "colab": {
          "base_uri": "https://localhost:8080/"
        },
        "id": "PCuTPJNlpuk9",
        "outputId": "fc2e5f11-abf6-4773-f6f3-e755aa31d2ae"
      },
      "cell_type": "code",
      "source": [
        "#функция\n",
        "def add(x, y):\n",
        "    return x + y\n",
        "\n",
        "add(1, 2)"
      ],
      "execution_count": null,
      "outputs": [
        {
          "output_type": "execute_result",
          "data": {
            "text/plain": [
              "3"
            ]
          },
          "metadata": {},
          "execution_count": 36
        }
      ]
    },
    {
      "cell_type": "code",
      "source": [],
      "metadata": {
        "id": "I5XQunRCKOdc"
      },
      "execution_count": null,
      "outputs": []
    }
  ],
  "metadata": {
    "kernelspec": {
      "display_name": "Python 3",
      "language": "python",
      "name": "python3"
    },
    "language_info": {
      "name": "python",
      "version": "3.6.6",
      "mimetype": "text/x-python",
      "codemirror_mode": {
        "name": "ipython",
        "version": 3
      },
      "pygments_lexer": "ipython3",
      "nbconvert_exporter": "python",
      "file_extension": ".py"
    },
    "colab": {
      "provenance": [],
      "include_colab_link": true
    }
  },
  "nbformat": 4,
  "nbformat_minor": 0
}