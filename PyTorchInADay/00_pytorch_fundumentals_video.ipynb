{
  "nbformat": 4,
  "nbformat_minor": 0,
  "metadata": {
    "colab": {
      "provenance": [],
      "gpuType": "T4"
    },
    "kernelspec": {
      "name": "python3",
      "display_name": "Python 3"
    },
    "language_info": {
      "name": "python"
    },
    "accelerator": "GPU"
  },
  "cells": [
    {
      "cell_type": "markdown",
      "source": [
        "## 00. PyTorch Fundumentals\n",
        "\n",
        "Resource notebook: https://www.learnpytorch.io/00_pytorch_fundamentals/"
      ],
      "metadata": {
        "id": "5WcPUqc6KLqW"
      }
    },
    {
      "cell_type": "code",
      "source": [
        "!nvidea-smi"
      ],
      "metadata": {
        "id": "1aNrL7CIIXbx"
      },
      "execution_count": null,
      "outputs": []
    },
    {
      "cell_type": "code",
      "source": [
        "import torch\n",
        "import pandas as pd\n",
        "import numpy as np\n",
        "import matplotlib.pyplot as plt\n",
        "\n",
        "print(torch.__version__)"
      ],
      "metadata": {
        "id": "4xADZta0KWms",
        "outputId": "e7fb0d5f-2de6-40aa-acb0-1b5f25405c2f",
        "colab": {
          "base_uri": "https://localhost:8080/"
        }
      },
      "execution_count": 4,
      "outputs": [
        {
          "output_type": "stream",
          "name": "stdout",
          "text": [
            "2.1.0+cu121\n"
          ]
        }
      ]
    },
    {
      "cell_type": "markdown",
      "source": [
        "## Introduction to Tensors\n",
        "\n",
        "### Creatingtensors"
      ],
      "metadata": {
        "id": "Cqq_SUnJLe4d"
      }
    },
    {
      "cell_type": "code",
      "source": [
        "# scalar\n"
      ],
      "metadata": {
        "id": "97yb9Z8cLsvn"
      },
      "execution_count": null,
      "outputs": []
    }
  ]
}