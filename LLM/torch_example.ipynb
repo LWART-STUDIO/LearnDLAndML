{
 "cells": [
  {
   "cell_type": "code",
   "execution_count": 1,
   "id": "0350d03a-7fc0-49b9-aea3-f9c7d050963c",
   "metadata": {},
   "outputs": [
    {
     "name": "stdout",
     "output_type": "stream",
     "text": [
      "cpu\n"
     ]
    }
   ],
   "source": [
    "import torch\n",
    "device = 'cuda' if torch.cuda.is_available() else 'cpu'\n",
    "import numpy as np\n",
    "import time\n",
    "print(device)"
   ]
  },
  {
   "cell_type": "code",
   "execution_count": 2,
   "id": "39a7b60a-6358-4a1e-8fec-b56aaa33b80c",
   "metadata": {},
   "outputs": [
    {
     "data": {
      "text/plain": [
       "tensor([-66,  41,   3,   6,  93, -26])"
      ]
     },
     "execution_count": 2,
     "metadata": {},
     "output_type": "execute_result"
    }
   ],
   "source": [
    "randint = torch.randint(-100,100,(6,))\n",
    "randint"
   ]
  },
  {
   "cell_type": "code",
   "execution_count": 3,
   "id": "19f94370-1eb5-4869-a0a2-4dd711b533db",
   "metadata": {},
   "outputs": [
    {
     "data": {
      "text/plain": [
       "tensor([[0.1000, 1.3000],\n",
       "        [2.2000, 3.1000],\n",
       "        [4.9000, 5.2000]])"
      ]
     },
     "execution_count": 3,
     "metadata": {},
     "output_type": "execute_result"
    }
   ],
   "source": [
    "tensor = torch.tensor([[0.1,1.3],[2.2,3.1],[4.9,5.2]])\n",
    "tensor"
   ]
  },
  {
   "cell_type": "code",
   "execution_count": 4,
   "id": "569425c3-725c-4b26-a5f0-d613ed38e32f",
   "metadata": {},
   "outputs": [
    {
     "data": {
      "text/plain": [
       "tensor([[0., 0., 0.],\n",
       "        [0., 0., 0.]])"
      ]
     },
     "execution_count": 4,
     "metadata": {},
     "output_type": "execute_result"
    }
   ],
   "source": [
    "zeros = torch.zeros(2,3)\n",
    "zeros\n"
   ]
  },
  {
   "cell_type": "code",
   "execution_count": 5,
   "id": "bb32cba7-e212-4762-9ce4-df0598952295",
   "metadata": {},
   "outputs": [
    {
     "data": {
      "text/plain": [
       "tensor([[1., 1., 1., 1.],\n",
       "        [1., 1., 1., 1.],\n",
       "        [1., 1., 1., 1.]])"
      ]
     },
     "execution_count": 5,
     "metadata": {},
     "output_type": "execute_result"
    }
   ],
   "source": [
    "ones = torch.ones(3,4)\n",
    "ones"
   ]
  },
  {
   "cell_type": "code",
   "execution_count": 13,
   "id": "d261c69a-6a76-4005-99ba-7ed43c64cfbd",
   "metadata": {},
   "outputs": [
    {
     "data": {
      "text/plain": [
       "tensor([[0., 0., 0.],\n",
       "        [0., 0., 0.]])"
      ]
     },
     "execution_count": 13,
     "metadata": {},
     "output_type": "execute_result"
    }
   ],
   "source": [
    "input = torch.empty(2,3)\n",
    "input"
   ]
  },
  {
   "cell_type": "code",
   "execution_count": 14,
   "id": "4d24e3da-09cb-4748-94cb-c60730b6ed3a",
   "metadata": {},
   "outputs": [
    {
     "data": {
      "text/plain": [
       "tensor([0, 1, 2, 3, 4])"
      ]
     },
     "execution_count": 14,
     "metadata": {},
     "output_type": "execute_result"
    }
   ],
   "source": [
    "arange = torch.arange(5)\n",
    "arange"
   ]
  },
  {
   "cell_type": "code",
   "execution_count": 19,
   "id": "a2fca19c-5187-4fe2-a98c-4c8bf83ceedd",
   "metadata": {},
   "outputs": [
    {
     "data": {
      "text/plain": [
       "tensor([ 3.0000,  4.7500,  6.5000,  8.2500, 10.0000])"
      ]
     },
     "execution_count": 19,
     "metadata": {},
     "output_type": "execute_result"
    }
   ],
   "source": [
    "linspace = torch.linspace(3,10,steps =5)\n",
    "linspace"
   ]
  },
  {
   "cell_type": "code",
   "execution_count": 20,
   "id": "6ab39cab-c768-4846-8a88-bc0f60941a01",
   "metadata": {},
   "outputs": [
    {
     "data": {
      "text/plain": [
       "tensor([1.0000e-10, 1.0000e-05, 1.0000e+00, 1.0000e+05, 1.0000e+10])"
      ]
     },
     "execution_count": 20,
     "metadata": {},
     "output_type": "execute_result"
    }
   ],
   "source": [
    "logspace = torch.logspace(start=-10, end = 10, steps =5)\n",
    "logspace"
   ]
  },
  {
   "cell_type": "code",
   "execution_count": 21,
   "id": "16c7c682-451e-46cb-af53-f6bf8142639c",
   "metadata": {},
   "outputs": [
    {
     "data": {
      "text/plain": [
       "tensor([[1., 0., 0., 0., 0.],\n",
       "        [0., 1., 0., 0., 0.],\n",
       "        [0., 0., 1., 0., 0.],\n",
       "        [0., 0., 0., 1., 0.],\n",
       "        [0., 0., 0., 0., 1.]])"
      ]
     },
     "execution_count": 21,
     "metadata": {},
     "output_type": "execute_result"
    }
   ],
   "source": [
    "eye = torch.eye(5)\n",
    "eye"
   ]
  },
  {
   "cell_type": "code",
   "execution_count": 37,
   "id": "9d751d0a-4563-4e67-9c4a-401eee115c1b",
   "metadata": {},
   "outputs": [
    {
     "data": {
      "text/plain": [
       "tensor([[0, 0, 0],\n",
       "        [0, 0, 0]])"
      ]
     },
     "execution_count": 37,
     "metadata": {},
     "output_type": "execute_result"
    }
   ],
   "source": [
    "a = torch.empty((2,3),dtype=torch.int64)\n",
    "empty_like = torch.empty_like(a)\n",
    "empty_like"
   ]
  },
  {
   "cell_type": "code",
   "execution_count": 56,
   "id": "a03e150f-cee3-4cac-b842-b8a280b0043a",
   "metadata": {},
   "outputs": [
    {
     "name": "stdout",
     "output_type": "stream",
     "text": [
      "0.00000000\n",
      "CPU times: total: 0 ns\n",
      "Wall time: 0 ns\n"
     ]
    }
   ],
   "source": [
    "%%time\n",
    "start_time = time.time()\n",
    "# matrix operations here\n",
    "zeros = torch.zeros(1, 1)\n",
    "end_time = time.time()\n",
    "\n",
    "elapsed_time = end_time - start_time\n",
    "print(f\"{elapsed_time:.8f}\")"
   ]
  },
  {
   "cell_type": "code",
   "execution_count": 52,
   "id": "12a26d8b-caaf-45b1-9054-513ce5bdfa9b",
   "metadata": {},
   "outputs": [
    {
     "name": "stdout",
     "output_type": "stream",
     "text": [
      "0.13948607\n",
      "0.18966985\n"
     ]
    }
   ],
   "source": [
    "torch_rand1 = torch.rand(100, 100, 100, 100).to(device)\n",
    "torch_rand2 = torch.rand(100, 100, 100, 100).to(device)\n",
    "np_rand1 = torch.rand(100, 100, 100, 100)\n",
    "np_rand2 = torch.rand(100, 100, 100, 100)\n",
    "\n",
    "start_time = time.time()\n",
    "\n",
    "rand = (torch_rand1 @ torch_rand2)\n",
    "\n",
    "end_time = time.time()\n",
    "\n",
    "elapsed_time = end_time - start_time\n",
    "print(f\"{elapsed_time:.8f}\")\n",
    "\n",
    "\n",
    "start_time = time.time()\n",
    "\n",
    "rand = np.multiply(np_rand1, np_rand2)\n",
    "end_time = time.time()\n",
    "elapsed_time = end_time - start_time\n",
    "print(f\"{elapsed_time:.8f}\")"
   ]
  },
  {
   "cell_type": "code",
   "execution_count": 77,
   "id": "01fdda6d-edba-4d74-98c5-57584c3e4593",
   "metadata": {},
   "outputs": [
    {
     "name": "stdout",
     "output_type": "stream",
     "text": [
      "tensor([1, 1, 1, 1, 1, 1, 1, 1, 1, 0])\n"
     ]
    }
   ],
   "source": [
    "# embeddings, torch.stack, torch.multinomial, torch.tril, torch.triu, input.T / input.transpose, nn.Linear, torch.cat, F.softmax (show all the examples of functions/methods with pytorch docs)\n",
    "\n",
    "\n",
    "# Define a probability tensor\n",
    "probabilities = torch.tensor([0.1, 0.9])\n",
    "# 10% or 0.1 => 0, 90% or 0.9 => 1. each probability points to the index of the probability in the tensor\n",
    "# Draw 5 samples from the multinomial distribution\n",
    "samples = torch.multinomial(probabilities, num_samples=10, replacement=True)\n",
    "print(samples)"
   ]
  },
  {
   "cell_type": "code",
   "execution_count": 78,
   "id": "30bba33f-318b-4191-89c4-07b4df01b094",
   "metadata": {},
   "outputs": [
    {
     "data": {
      "text/plain": [
       "tensor([1, 2, 3, 4, 5])"
      ]
     },
     "execution_count": 78,
     "metadata": {},
     "output_type": "execute_result"
    }
   ],
   "source": [
    "tensor = torch.tensor([1, 2, 3, 4])\n",
    "out = torch.cat((tensor, torch.tensor([5])), dim=0)\n",
    "out"
   ]
  },
  {
   "cell_type": "code",
   "execution_count": 79,
   "id": "d648e872-f409-4bb4-811e-cf2c9304587c",
   "metadata": {},
   "outputs": [
    {
     "data": {
      "text/plain": [
       "tensor([[1., 0., 0., 0., 0.],\n",
       "        [1., 1., 0., 0., 0.],\n",
       "        [1., 1., 1., 0., 0.],\n",
       "        [1., 1., 1., 1., 0.],\n",
       "        [1., 1., 1., 1., 1.]])"
      ]
     },
     "execution_count": 79,
     "metadata": {},
     "output_type": "execute_result"
    }
   ],
   "source": [
    "out = torch.tril(torch.ones(5, 5))\n",
    "out"
   ]
  },
  {
   "cell_type": "code",
   "execution_count": 80,
   "id": "3aafeafa-7172-4be0-a6df-9573e72451f6",
   "metadata": {},
   "outputs": [
    {
     "data": {
      "text/plain": [
       "tensor([[1., 1., 1., 1., 1.],\n",
       "        [0., 1., 1., 1., 1.],\n",
       "        [0., 0., 1., 1., 1.],\n",
       "        [0., 0., 0., 1., 1.],\n",
       "        [0., 0., 0., 0., 1.]])"
      ]
     },
     "execution_count": 80,
     "metadata": {},
     "output_type": "execute_result"
    }
   ],
   "source": [
    "out = torch.triu(torch.ones(5, 5))\n",
    "out"
   ]
  },
  {
   "cell_type": "code",
   "execution_count": 81,
   "id": "35ff7391-73ea-49ec-8802-8b1f927629a0",
   "metadata": {},
   "outputs": [
    {
     "data": {
      "text/plain": [
       "tensor([[0., -inf, -inf, -inf, -inf],\n",
       "        [0., 0., -inf, -inf, -inf],\n",
       "        [0., 0., 0., -inf, -inf],\n",
       "        [0., 0., 0., 0., -inf],\n",
       "        [0., 0., 0., 0., 0.]])"
      ]
     },
     "execution_count": 81,
     "metadata": {},
     "output_type": "execute_result"
    }
   ],
   "source": [
    "out = torch.zeros(5, 5).masked_fill(torch.tril(torch.ones(5, 5)) == 0, float('-inf'))\n",
    "out"
   ]
  },
  {
   "cell_type": "code",
   "execution_count": 82,
   "id": "f2827ca6-92d3-4e97-9380-8538c327cd3b",
   "metadata": {},
   "outputs": [
    {
     "data": {
      "text/plain": [
       "tensor([[1., 0., 0., 0., 0.],\n",
       "        [1., 1., 0., 0., 0.],\n",
       "        [1., 1., 1., 0., 0.],\n",
       "        [1., 1., 1., 1., 0.],\n",
       "        [1., 1., 1., 1., 1.]])"
      ]
     },
     "execution_count": 82,
     "metadata": {},
     "output_type": "execute_result"
    }
   ],
   "source": [
    "torch.exp(out)"
   ]
  },
  {
   "cell_type": "code",
   "execution_count": 83,
   "id": "a09c5009-6d10-478f-ab03-36d673803d55",
   "metadata": {},
   "outputs": [
    {
     "name": "stdout",
     "output_type": "stream",
     "text": [
      "torch.Size([3, 2, 4])\n",
      "torch.Size([2, 4, 3])\n"
     ]
    }
   ],
   "source": [
    "input = torch.zeros(2, 3, 4)\n",
    "out1 = input.transpose(0, 1)\n",
    "out2 = input.transpose(-2,-1)\n",
    "print(out1.shape)\n",
    "print(out2.shape)\n",
    "# torch.permute works the same but you provide the new order of dimensions instead of the dimensions you'd like to swap."
   ]
  },
  {
   "cell_type": "code",
   "execution_count": 84,
   "id": "ced5b42f-83fd-43a7-b1e2-1ac2a01f1e2f",
   "metadata": {},
   "outputs": [
    {
     "data": {
      "text/plain": [
       "tensor([[1, 2, 3],\n",
       "        [4, 5, 6],\n",
       "        [7, 8, 9]])"
      ]
     },
     "execution_count": 84,
     "metadata": {},
     "output_type": "execute_result"
    }
   ],
   "source": [
    "\n",
    "tensor1 = torch.tensor([1, 2, 3])\n",
    "tensor2 = torch.tensor([4, 5, 6])\n",
    "tensor3 = torch.tensor([7, 8, 9])\n",
    "\n",
    "# Stack the tensors along a new dimension\n",
    "stacked_tensor = torch.stack([tensor1, tensor2, tensor3])\n",
    "stacked_tensor"
   ]
  },
  {
   "cell_type": "code",
   "execution_count": 28,
   "id": "1ca1ba49-9502-4c95-9cbb-c0f18a16b3a0",
   "metadata": {},
   "outputs": [
    {
     "name": "stdout",
     "output_type": "stream",
     "text": [
      "tensor([-7.6506, -0.2215, -1.6533], grad_fn=<SqueezeBackward4>)\n"
     ]
    }
   ],
   "source": [
    "import torch.nn as nn\n",
    "sample = torch.tensor([10.,10.,10.])\n",
    "linear = nn.Linear(3, 3, bias=False)\n",
    "print(linear(sample))"
   ]
  },
  {
   "cell_type": "code",
   "execution_count": 86,
   "id": "e2a74cf8-e337-40d0-9594-a6726f11ddb1",
   "metadata": {},
   "outputs": [
    {
     "name": "stdout",
     "output_type": "stream",
     "text": [
      "tensor([0.0900, 0.2447, 0.6652])\n"
     ]
    }
   ],
   "source": [
    "import torch.nn.functional as F\n",
    "\n",
    "# Create a tensor\n",
    "tensor1 = torch.tensor([1.0, 2.0, 3.0])\n",
    "\n",
    "# Apply softmax using torch.nn.functional.softmax()\n",
    "softmax_output = F.softmax(tensor1, dim=0)\n",
    "\n",
    "print(softmax_output)"
   ]
  },
  {
   "cell_type": "code",
   "execution_count": 87,
   "id": "5f32400a-9d56-4448-8a18-0c3c976f1c8b",
   "metadata": {},
   "outputs": [
    {
     "name": "stdout",
     "output_type": "stream",
     "text": [
      "torch.Size([4, 6])\n",
      "tensor([[ 0.9669, -0.7823,  0.7581,  0.8035, -0.1090,  0.8294],\n",
      "        [-0.0201,  0.2418,  0.7936, -1.1706,  0.3680,  2.2853],\n",
      "        [ 0.5932,  0.4212, -1.9941, -0.3085,  1.4840,  0.7099],\n",
      "        [ 1.2557, -0.5303,  0.3681,  1.1493, -3.5300,  0.7095]],\n",
      "       grad_fn=<EmbeddingBackward0>)\n"
     ]
    }
   ],
   "source": [
    "# Initialize an embedding layer\n",
    "vocab_size = 80\n",
    "embedding_dim = 6\n",
    "embedding = nn.Embedding(vocab_size, embedding_dim)\n",
    "\n",
    "# Create some input indices\n",
    "input_indices = torch.LongTensor([1, 5, 3, 2])\n",
    "\n",
    "# Apply the embedding layer\n",
    "embedded_output = embedding(input_indices)\n",
    "\n",
    "# The output will be a tensor of shape (4, 100), where 4 is the number of inputs\n",
    "# and 100 is the dimensionality of the embedding vectors\n",
    "print(embedded_output.shape)\n",
    "print(embedded_output)"
   ]
  },
  {
   "cell_type": "code",
   "execution_count": 88,
   "id": "6cb8c7c9-8a17-4554-a291-a1a909aef543",
   "metadata": {},
   "outputs": [
    {
     "name": "stdout",
     "output_type": "stream",
     "text": [
      "tensor([[ 27,  30,  33],\n",
      "        [ 61,  68,  75],\n",
      "        [ 95, 106, 117]])\n"
     ]
    }
   ],
   "source": [
    "a = torch.tensor([[1,2],[3,4],[5,6]])\n",
    "b = torch.tensor([[7,8,9],[10,11,12]])\n",
    "# print(a @ b)\n",
    "print(torch.matmul(a, b))"
   ]
  },
  {
   "cell_type": "code",
   "execution_count": 89,
   "id": "af81c680-808b-4f77-8299-c062f63eadb3",
   "metadata": {},
   "outputs": [
    {
     "name": "stdout",
     "output_type": "stream",
     "text": [
      "tensor([[0., 0., 0.],\n",
      "        [0., 0., 0.],\n",
      "        [0., 0., 0.]])\n"
     ]
    }
   ],
   "source": [
    "int_64 = torch.randint(1, (3, 2)).float()\n",
    "#type int64\n",
    "float_32 = torch.rand(2,3)\n",
    "#type float32\n",
    "# print(int_64.dtype, float_32.dtype)\n",
    "result = torch.matmul(int_64, float_32)\n",
    "print(result)"
   ]
  },
  {
   "cell_type": "code",
   "execution_count": 90,
   "id": "154e23bc-27f8-41aa-a00b-9aa765aa8d3b",
   "metadata": {},
   "outputs": [
    {
     "name": "stdout",
     "output_type": "stream",
     "text": [
      "torch.Size([2, 3, 5])\n",
      "torch.Size([2, 3, 5])\n"
     ]
    }
   ],
   "source": [
    "a = torch.rand(2, 3, 5)\n",
    "print(a.shape)\n",
    "x, y, z = a.shape\n",
    "a = a.view(x,y,z)\n",
    "# print(x, y, z)\n",
    "print(a.shape)"
   ]
  },
  {
   "cell_type": "code",
   "execution_count": 91,
   "id": "b9454f1a-46a3-4468-834a-0e2135ac052e",
   "metadata": {},
   "outputs": [
    {
     "name": "stdout",
     "output_type": "stream",
     "text": [
      "tensor([[6.8828e-01, 6.4651e-01, 4.4590e-04, 6.9568e-01, 9.8447e-01, 9.8929e-01,\n",
      "         6.4926e-01, 4.6608e-01, 7.3468e-01, 4.5399e-01],\n",
      "        [2.7755e-02, 6.0494e-02, 1.8907e-02, 7.3530e-01, 8.4172e-01, 3.4536e-01,\n",
      "         9.8764e-01, 9.3485e-01, 9.0596e-01, 6.7531e-01],\n",
      "        [5.5379e-01, 1.8699e-01, 6.7562e-01, 9.7542e-01, 6.2489e-01, 7.0647e-01,\n",
      "         5.7619e-02, 7.5968e-01, 1.1446e-01, 4.2918e-01],\n",
      "        [8.2590e-01, 5.2350e-01, 4.8991e-01, 3.5671e-01, 8.1074e-01, 9.9952e-01,\n",
      "         9.1092e-02, 1.4855e-01, 3.4571e-01, 5.0572e-01],\n",
      "        [4.5899e-01, 3.3684e-01, 4.7144e-01, 1.9897e-02, 2.8868e-01, 6.4488e-01,\n",
      "         3.3249e-01, 6.8875e-01, 9.1125e-01, 1.0476e-01],\n",
      "        [2.6572e-01, 8.4651e-01, 4.4748e-01, 1.5426e-01, 7.0391e-01, 7.5569e-01,\n",
      "         4.7740e-01, 5.6595e-01, 7.9194e-01, 2.3235e-01],\n",
      "        [2.6870e-02, 5.5045e-01, 6.1758e-01, 3.5297e-01, 9.4616e-02, 3.4953e-01,\n",
      "         2.9294e-02, 3.5420e-02, 7.9555e-01, 7.9046e-01],\n",
      "        [2.6843e-02, 3.5859e-01, 5.7549e-01, 3.8202e-01, 5.5949e-01, 5.1974e-01,\n",
      "         6.4163e-01, 6.3694e-01, 5.7814e-01, 6.3442e-01],\n",
      "        [7.1631e-02, 8.7174e-02, 9.5423e-01, 7.3739e-01, 7.8393e-01, 1.9404e-01,\n",
      "         3.7438e-01, 3.1334e-02, 6.3347e-02, 9.0958e-01],\n",
      "        [5.9864e-01, 4.8371e-01, 5.4056e-02, 2.2145e-01, 1.3510e-01, 9.7768e-01,\n",
      "         1.6214e-01, 7.9450e-01, 1.9132e-01, 7.7139e-01],\n",
      "        [6.7647e-01, 7.2182e-01, 3.2078e-01, 5.2340e-01, 5.1123e-01, 6.4918e-01,\n",
      "         5.2561e-01, 6.1523e-01, 6.7399e-01, 7.4866e-01],\n",
      "        [3.7182e-01, 6.1936e-01, 6.9924e-01, 9.5633e-01, 8.9633e-01, 3.4105e-01,\n",
      "         9.9455e-01, 7.8674e-01, 4.6214e-01, 6.5940e-02],\n",
      "        [2.4176e-01, 1.6648e-01, 6.5007e-01, 3.7618e-01, 2.9471e-01, 4.7107e-01,\n",
      "         2.0109e-01, 4.7805e-01, 4.6019e-01, 4.7410e-01],\n",
      "        [3.7852e-01, 7.4867e-01, 6.6887e-01, 4.9138e-01, 9.9257e-01, 2.4297e-01,\n",
      "         5.0037e-01, 6.2183e-01, 4.7316e-01, 2.4242e-01],\n",
      "        [5.3069e-01, 2.3125e-01, 8.8523e-01, 2.3711e-01, 8.3062e-01, 6.2453e-01,\n",
      "         3.2431e-01, 4.9097e-01, 8.9869e-01, 6.2202e-01],\n",
      "        [9.1744e-02, 2.2105e-01, 7.0942e-01, 3.3062e-01, 2.0740e-02, 1.2526e-01,\n",
      "         9.7915e-02, 7.4501e-02, 6.1694e-01, 2.7661e-01],\n",
      "        [4.5514e-01, 4.4472e-01, 7.0273e-01, 9.0865e-01, 1.2260e-01, 5.9113e-01,\n",
      "         8.8409e-01, 5.1530e-01, 5.7473e-01, 7.5454e-02],\n",
      "        [2.8700e-01, 1.2151e-01, 8.9730e-01, 8.8891e-01, 4.1149e-01, 3.9304e-01,\n",
      "         2.3852e-01, 6.0724e-01, 3.7320e-01, 6.5934e-01],\n",
      "        [7.3221e-01, 3.4587e-01, 5.8177e-01, 1.8586e-01, 4.4345e-01, 9.5117e-01,\n",
      "         7.4017e-01, 4.2846e-01, 8.7190e-01, 1.8086e-01],\n",
      "        [4.2793e-02, 7.7860e-01, 5.4852e-02, 8.2385e-01, 2.0783e-01, 1.5500e-01,\n",
      "         1.7470e-01, 1.8222e-01, 8.5490e-01, 5.7915e-01],\n",
      "        [8.7073e-01, 4.4554e-02, 6.1732e-01, 6.3948e-01, 7.7955e-01, 1.1867e-01,\n",
      "         9.1738e-01, 5.7524e-01, 3.0979e-01, 4.1305e-01],\n",
      "        [5.6360e-01, 9.7859e-01, 8.8542e-01, 7.9550e-01, 7.7874e-01, 7.4753e-01,\n",
      "         5.7136e-01, 4.6961e-01, 7.5463e-01, 2.3523e-01],\n",
      "        [8.6366e-01, 2.4171e-02, 2.1239e-01, 6.0850e-01, 4.2426e-01, 9.9138e-01,\n",
      "         4.9549e-02, 9.6017e-01, 5.8927e-01, 3.5767e-01],\n",
      "        [9.5344e-01, 6.6328e-01, 1.9978e-02, 6.0650e-01, 9.5508e-01, 6.4394e-01,\n",
      "         8.3552e-01, 3.2409e-02, 4.6566e-01, 1.0044e-01],\n",
      "        [7.4854e-01, 8.7113e-01, 8.2344e-02, 3.2155e-01, 2.8722e-01, 9.8765e-01,\n",
      "         6.3709e-01, 3.8681e-01, 4.0113e-01, 3.1644e-01],\n",
      "        [3.9186e-01, 8.9690e-01, 7.4550e-01, 9.0893e-01, 9.0896e-01, 5.9390e-01,\n",
      "         8.5517e-01, 4.8024e-01, 3.8276e-01, 9.5177e-01],\n",
      "        [1.7866e-01, 6.3906e-01, 5.3150e-01, 4.7268e-01, 8.5273e-01, 9.3936e-01,\n",
      "         3.6247e-01, 2.0070e-02, 2.9958e-01, 9.6957e-01],\n",
      "        [1.3808e-01, 7.5405e-01, 1.0353e-01, 6.3806e-01, 8.1942e-01, 4.4162e-01,\n",
      "         9.0389e-01, 1.2912e-01, 2.6113e-01, 6.7144e-01],\n",
      "        [2.9531e-01, 9.5086e-01, 9.2812e-01, 9.7286e-01, 5.0669e-02, 1.8828e-01,\n",
      "         2.1520e-01, 6.5719e-01, 1.0454e-01, 9.5241e-01],\n",
      "        [2.8588e-01, 9.1812e-01, 9.5255e-01, 1.4013e-02, 2.6991e-01, 6.2160e-01,\n",
      "         2.5314e-01, 4.8104e-02, 4.5882e-01, 7.0958e-01],\n",
      "        [1.3016e-01, 8.2248e-01, 1.9042e-01, 1.6429e-01, 1.4256e-01, 9.0248e-01,\n",
      "         4.1571e-01, 8.7613e-01, 8.6807e-01, 9.8335e-01],\n",
      "        [3.9979e-01, 3.1565e-01, 8.5042e-01, 5.6495e-01, 1.5835e-01, 6.5587e-01,\n",
      "         3.2069e-01, 1.4968e-01, 6.3691e-01, 1.0166e-01]])\n"
     ]
    },
    {
     "ename": "IndexError",
     "evalue": "too many indices for tensor of dimension 2",
     "output_type": "error",
     "traceback": [
      "\u001b[1;31m---------------------------------------------------------------------------\u001b[0m",
      "\u001b[1;31mIndexError\u001b[0m                                Traceback (most recent call last)",
      "Cell \u001b[1;32mIn[91], line 6\u001b[0m\n\u001b[0;32m      4\u001b[0m \u001b[38;5;28mprint\u001b[39m(output)\n\u001b[0;32m      5\u001b[0m \u001b[38;5;66;03m# print(input)\u001b[39;00m\n\u001b[1;32m----> 6\u001b[0m \u001b[38;5;28mprint\u001b[39m(\u001b[43moutput\u001b[49m\u001b[43m[\u001b[49m\u001b[43m:\u001b[49m\u001b[43m,\u001b[49m\u001b[43m \u001b[49m\u001b[38;5;241;43m-\u001b[39;49m\u001b[38;5;241;43m1\u001b[39;49m\u001b[43m,\u001b[49m\u001b[43m \u001b[49m\u001b[43m:\u001b[49m\u001b[43m]\u001b[49m)\n",
      "\u001b[1;31mIndexError\u001b[0m: too many indices for tensor of dimension 2"
     ]
    }
   ],
   "source": [
    "input = torch.rand((4, 8, 10))\n",
    "B, T, C = input.shape\n",
    "output = input.view(B*T, C)\n",
    "print(output)\n",
    "# print(input)\n",
    "print(output[:, -1, :])"
   ]
  },
  {
   "cell_type": "code",
   "execution_count": 92,
   "id": "01123d60-1832-4d63-a90a-eab100cdcdf7",
   "metadata": {},
   "outputs": [
    {
     "name": "stdout",
     "output_type": "stream",
     "text": [
      "tensor([1.])\n"
     ]
    }
   ],
   "source": [
    "x = torch.tensor([10], dtype=torch.float32)\n",
    "y = F.tanh(x)\n",
    "print(y)"
   ]
  }
 ],
 "metadata": {
  "kernelspec": {
   "display_name": "cuda-gpt",
   "language": "python",
   "name": "cuda"
  },
  "language_info": {
   "codemirror_mode": {
    "name": "ipython",
    "version": 3
   },
   "file_extension": ".py",
   "mimetype": "text/x-python",
   "name": "python",
   "nbconvert_exporter": "python",
   "pygments_lexer": "ipython3",
   "version": "3.11.5"
  }
 },
 "nbformat": 4,
 "nbformat_minor": 5
}
